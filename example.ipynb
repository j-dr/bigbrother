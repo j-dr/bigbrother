{
 "cells": [
  {
   "cell_type": "code",
   "execution_count": 1,
   "metadata": {
    "collapsed": false
   },
   "outputs": [
    {
     "name": "stdout",
     "output_type": "stream",
     "text": [
      "Populating the interactive namespace from numpy and matplotlib\n"
     ]
    },
    {
     "name": "stderr",
     "output_type": "stream",
     "text": [
      "/afs/slac/g/ki/software/anaconda/x86_64-2.7/lib/python2.7/site-packages/matplotlib/__init__.py:1350: UserWarning:  This call to matplotlib.use() has no effect\n",
      "because the backend has already been chosen;\n",
      "matplotlib.use() must be called *before* pylab, matplotlib.pyplot,\n",
      "or matplotlib.backends is imported for the first time.\n",
      "\n",
      "  warnings.warn(_use_error_msg)\n"
     ]
    }
   ],
   "source": [
    "%pylab inline\n",
    "from bigbrother.ministry import Ministry\n",
    "from bigbrother.magnitudemetric import LuminosityFunction, TabulatedLuminosityFunction, AnalyticLuminosityFunction\n",
    "from bigbrother.massmetric import MassFunction, TinkerMassFunction, Richness\n",
    "from bigbrother.halo import HaloCatalog\n",
    "from glob import glob\n",
    "from collections import OrderedDict\n",
    "import sys\n",
    "import healpy as hp\n",
    "import fitsio\n",
    "%load_ext autoreload\n",
    "%autoreload 2"
   ]
  },
  {
   "cell_type": "markdown",
   "metadata": {},
   "source": [
    "## Compare the Buzzard luminosity function with other LFs"
   ]
  },
  {
   "cell_type": "markdown",
   "metadata": {},
   "source": [
    "The first thing you usually want to do when using this code is to define a ministry object. Ministry objects contain information about cosmology, survey geometry, and how to optimize the I/O for running various calculations. They are the framework around which different types of catalogs are understood by the code."
   ]
  },
  {
   "cell_type": "code",
   "execution_count": null,
   "metadata": {
    "collapsed": false
   },
   "outputs": [],
   "source": [
    "bzd = Ministry(0.3, 0.7, 0.7, 0.0, 2.0, 3*53.71)"
   ]
  },
  {
   "cell_type": "markdown",
   "metadata": {},
   "source": [
    "The goal of this piece of code is to hide the differences between various types of catalogs using different catalog classes which inherit from the same BaseCatalog class. That way, whenever we want to do something with a galaxy catalog, or a halo catalog that action just needs to know about the BaseCatalog API.\n",
    "\n",
    "In general a ministry object usually needs a few pieces of information:\n",
    "###Metrics\n",
    "Metrics are functions which calculate summary statistics on the catalogs generally corresponding to observables that we care about."
   ]
  },
  {
   "cell_type": "code",
   "execution_count": null,
   "metadata": {
    "collapsed": false
   },
   "outputs": [],
   "source": [
    "bzdmetrics = [LuminosityFunction(bzd)]"
   ]
  },
  {
   "cell_type": "markdown",
   "metadata": {},
   "source": [
    "We'll start simple and just look at a luminosity function in one redshift bin. The luminosity function metric defaults to using a redshift bin of $0.0\\le z < 0.2$."
   ]
  },
  {
   "cell_type": "markdown",
   "metadata": {},
   "source": [
    "The second piece of information we need is the location of the relevant files on disk, as well as the types of those files. This information is provided by a dictionary called the filestruct. See below for an example."
   ]
  },
  {
   "cell_type": "code",
   "execution_count": null,
   "metadata": {
    "collapsed": false
   },
   "outputs": [],
   "source": [
    "files = glob('/u/ki/jderose/desims/addgals/catalogs/Buzzard/Catalog_v1.1/truth/Buzzard_v1.1_truth.*.fit')\n",
    "files[:5]"
   ]
  },
  {
   "cell_type": "code",
   "execution_count": null,
   "metadata": {
    "collapsed": true
   },
   "outputs": [],
   "source": [
    "g = fitsio.read(files[0])"
   ]
  },
  {
   "cell_type": "code",
   "execution_count": null,
   "metadata": {
    "collapsed": false
   },
   "outputs": [],
   "source": [
    "print(len(g))\n",
    "print(g.dtype)"
   ]
  },
  {
   "cell_type": "code",
   "execution_count": null,
   "metadata": {
    "collapsed": false
   },
   "outputs": [],
   "source": [
    "bfs = {}\n",
    "bfs['truth'] = files[:3]"
   ]
  },
  {
   "cell_type": "markdown",
   "metadata": {},
   "source": [
    "The key of the filestruct specifies the type of file and the value is a list of all the files of that type that we want to use. Here I have designated a number of 'truth' files, but the key could have been anything as long as it is refered to consistently."
   ]
  },
  {
   "cell_type": "markdown",
   "metadata": {},
   "source": [
    "In order for the galaxy catalog object that we are about to create to know where to find various pieces of information that it needs in the files we just definied, we should define something called a fieldmap. This is a dictionary whose keys are the fields that are required by the metrics we want to use. These fields are called mapkeys in the code. \n",
    "\n",
    "The values of a fieldmap are also dictionaries. This time, the keys are the names of the fields corresponding to mapkeys in a catalog file, and the values are lists telling us in which types of files we can find the keys. In this case, the LuminosityFunction metric requires two mapkeys, luminosity and redshift. Thus we must define a fieldmap with these mapkeys as keys. The corresponding value of the luminosity key tells us that the luminosities are located in the 'AMAG' field of truth files. Likewise, redshifts are located in the 'Z' field of truth files."
   ]
  },
  {
   "cell_type": "code",
   "execution_count": null,
   "metadata": {
    "collapsed": false
   },
   "outputs": [],
   "source": [
    "bzdmetrics[0].mapkeys"
   ]
  },
  {
   "cell_type": "code",
   "execution_count": null,
   "metadata": {
    "collapsed": true
   },
   "outputs": [],
   "source": [
    "fm = {'luminosity':OrderedDict([('AMAG',['truth'])]),\n",
    "      'redshift':OrderedDict([('Z', ['truth'])])}"
   ]
  },
  {
   "cell_type": "markdown",
   "metadata": {},
   "source": [
    "Now we have all of the information that our GalaxyCatalog object needs. This particular galaxy catalog that we are using now is a 'BCC' (Blind Cosmology Challege) catalog. Thus we set our simulations galaxy catalog using the function below.\n"
   ]
  },
  {
   "cell_type": "code",
   "execution_count": null,
   "metadata": {
    "collapsed": false
   },
   "outputs": [],
   "source": [
    "bzd.setGalaxyCatalog('BCC', bfs, fieldmap=fm)\n",
    "bzd.galaxycatalog.metrics = bzdmetrics"
   ]
  },
  {
   "cell_type": "code",
   "execution_count": null,
   "metadata": {
    "collapsed": false
   },
   "outputs": [],
   "source": [
    "bzd.validate()"
   ]
  },
  {
   "cell_type": "markdown",
   "metadata": {},
   "source": [
    "Now we can compare this to a the Bernardi 2013 (http://arxiv.org/abs/1304.7778) luminosity function as well as a double Schechter function plus a Gaussian tail at high luminosities."
   ]
  },
  {
   "cell_type": "code",
   "execution_count": null,
   "metadata": {
    "collapsed": false
   },
   "outputs": [],
   "source": [
    "bf = np.array(['/u/ki/jderose/ki23/amatch/bernardi-test/anc/LF_SerExpAll.dat'])\n",
    "bern = Ministry(0.286, 0.714, 0.7, 0.0, 2.0, 53.71)\n",
    "bernLF = TabulatedLuminosityFunction(bern,fname=bf)\n",
    "bernLF.loadLuminosityFunction()"
   ]
  },
  {
   "cell_type": "code",
   "execution_count": null,
   "metadata": {
    "collapsed": false
   },
   "outputs": [],
   "source": [
    "p0 = np.array([  1.50528627e-02,  -1.66000000e-01,   6.47466081e-03,  -1.52300000e+00,\n",
    "  -2.00100000e+01,   2.0e-03,  -2.1500000e+01,   7.500000e-01])\n",
    "dsgin = Ministry(0.286, 0.714, 0.7, 0.0, 2.0, 53.71)\n",
    "dsgLF = AnalyticLuminosityFunction(dsgin)\n",
    "dsgLF.calcNumberDensity(p0, form='doubleSchechterGaussian')"
   ]
  },
  {
   "cell_type": "code",
   "execution_count": null,
   "metadata": {
    "collapsed": true
   },
   "outputs": [],
   "source": [
    "bzdLF = bzd.galaxycatalog.metrics[0]"
   ]
  },
  {
   "cell_type": "code",
   "execution_count": null,
   "metadata": {
    "collapsed": false
   },
   "outputs": [],
   "source": [
    "bzdLF.visualize()"
   ]
  },
  {
   "cell_type": "code",
   "execution_count": null,
   "metadata": {
    "collapsed": false
   },
   "outputs": [],
   "source": [
    "f, ax = bzdLF.compare([bernLF, dsgLF], fylim=[-1.0, 1.0])\n",
    "f.set_figheight(15)\n",
    "f.set_figwidth(15)"
   ]
  },
  {
   "cell_type": "markdown",
   "metadata": {},
   "source": [
    "## Calculating $\\frac{dn}{dz}$"
   ]
  },
  {
   "cell_type": "code",
   "execution_count": null,
   "metadata": {
    "collapsed": false
   },
   "outputs": [],
   "source": [
    "bzdmetrics = [Area(bzd, nside=256), DNDz(bzd, magbins=[19], cutband=2, zbins=np.linspace(-0.0125, 0.5125, 22), normed=True)]\n",
    "print(bzdmetrics[0].mapkeys)\n",
    "print(bzdmetrics[1].mapkeys)"
   ]
  },
  {
   "cell_type": "code",
   "execution_count": null,
   "metadata": {
    "collapsed": false
   },
   "outputs": [],
   "source": [
    "fm = {'appmag':OrderedDict([('OMAG',['truth'])]),\n",
    "      'redshift':OrderedDict([('Z', ['truth'])]),\n",
    "      'polar_ang':OrderedDict([('DEC', ['truth'])]),\n",
    "      'azim_ang':OrderedDict([('RA', ['truth'])])}\n",
    "\n",
    "bzd.setGalaxyCatalog('BCC', bfs, fieldmap=fm)\n",
    "bzd.metrics = bzdmetrics\n"
   ]
  },
  {
   "cell_type": "code",
   "execution_count": null,
   "metadata": {
    "collapsed": false
   },
   "outputs": [],
   "source": [
    "bzdmetrics[1].nmagbins"
   ]
  },
  {
   "cell_type": "code",
   "execution_count": null,
   "metadata": {
    "collapsed": false
   },
   "outputs": [],
   "source": [
    "bzd.validate(nmap=1)"
   ]
  },
  {
   "cell_type": "code",
   "execution_count": null,
   "metadata": {
    "collapsed": false
   },
   "outputs": [],
   "source": [
    "bzd.metrics[0].visualize()"
   ]
  },
  {
   "cell_type": "markdown",
   "metadata": {
    "collapsed": true
   },
   "source": [
    "## Plotting the Buzzard halo mass function"
   ]
  },
  {
   "cell_type": "markdown",
   "metadata": {},
   "source": [
    "In this example we will plot the halo mass function of a BCC style halo catalog. Some halo files can be found as follows."
   ]
  },
  {
   "cell_type": "code",
   "execution_count": null,
   "metadata": {
    "collapsed": false
   },
   "outputs": [],
   "source": [
    "hfiles = glob('/u/ki/jderose/desims/addgals/catalogs/Buzzard/Catalog_v1.1/halos/Buzzard_v1.1_halos_rotated.*.fit')\n",
    "hfiles[:5]"
   ]
  },
  {
   "cell_type": "markdown",
   "metadata": {},
   "source": [
    "Let's create a file structure for our halo catalog using these files"
   ]
  },
  {
   "cell_type": "code",
   "execution_count": null,
   "metadata": {
    "collapsed": true
   },
   "outputs": [],
   "source": [
    "hfs = {}\n",
    "hfs['truth'] = hfiles[:3]"
   ]
  },
  {
   "cell_type": "markdown",
   "metadata": {},
   "source": [
    "First of all, let's create a mass function object associated with the Buzzard ministry with default settings for mass and redshift bins."
   ]
  },
  {
   "cell_type": "code",
   "execution_count": null,
   "metadata": {
    "collapsed": false
   },
   "outputs": [],
   "source": [
    "bzdmfcn = Richmess(bzd)"
   ]
  },
  {
   "cell_type": "markdown",
   "metadata": {},
   "source": [
    "Once we have this, we can find out what mapkeys the MassFunction metric requires"
   ]
  },
  {
   "cell_type": "code",
   "execution_count": null,
   "metadata": {
    "collapsed": false
   },
   "outputs": [],
   "source": [
    "bzdmfcn.mapkeys"
   ]
  },
  {
   "cell_type": "markdown",
   "metadata": {},
   "source": [
    "We see that we need halo masses and redshifts. We now need to define a new field map for the halo catalog, similar to the one we defined for the galaxy catalog but with these mapkeys instead of luminosity and redshift. Let's look in the halo files to see where we can find mass and redshfit."
   ]
  },
  {
   "cell_type": "code",
   "execution_count": null,
   "metadata": {
    "collapsed": false
   },
   "outputs": [],
   "source": [
    "halos = fitsio.read(hfiles[0])\n",
    "print(halos.dtype)"
   ]
  },
  {
   "cell_type": "markdown",
   "metadata": {},
   "source": [
    "There is a M200 field, and a Z field. These will work fine for our purposes."
   ]
  },
  {
   "cell_type": "code",
   "execution_count": null,
   "metadata": {
    "collapsed": true
   },
   "outputs": [],
   "source": [
    "    hfm = {'mass':OrderedDict([('M200',['truth'])]),\n",
    "          'redshift':OrderedDict([('Z', ['truth'])])}"
   ]
  },
  {
   "cell_type": "code",
   "execution_count": null,
   "metadata": {
    "collapsed": true
   },
   "outputs": [],
   "source": [
    "bzd.setHaloCatalog('BCC', hfs, fieldmap=hfm)\n",
    "bzd.halocatalog.metrics = [bzdmfcn]\n",
    "#We're resetting the ministry metrics here, because we don't want to recalculate the luminosity function\n",
    "bzd.metrics = [bzdmfcn]"
   ]
  },
  {
   "cell_type": "code",
   "execution_count": null,
   "metadata": {
    "collapsed": false
   },
   "outputs": [],
   "source": [
    "bzd.validate()"
   ]
  },
  {
   "cell_type": "markdown",
   "metadata": {},
   "source": [
    "This mass function will look strange below 3e13 $M_{\\odot}$ because it measured on halos of three different resolution boxes."
   ]
  },
  {
   "cell_type": "code",
   "execution_count": null,
   "metadata": {
    "collapsed": false
   },
   "outputs": [],
   "source": [
    "bzdmfcn.visualize()"
   ]
  },
  {
   "cell_type": "markdown",
   "metadata": {
    "collapsed": true
   },
   "source": [
    "## Rockstar halo catalogs"
   ]
  },
  {
   "cell_type": "markdown",
   "metadata": {},
   "source": [
    "Here we provide an example of how to create a halo catalog which uses a rockstar catalog reader."
   ]
  },
  {
   "cell_type": "code",
   "execution_count": null,
   "metadata": {
    "collapsed": false
   },
   "outputs": [],
   "source": [
    "%pylab inline\n",
    "from bigbrother.ministry import Ministry\n",
    "from bigbrother.massmetric import MassFunction, TinkerMassFunction\n",
    "from collections import OrderedDict\n",
    "from bigbrother.halo import HaloCatalog"
   ]
  },
  {
   "cell_type": "code",
   "execution_count": null,
   "metadata": {
    "collapsed": false
   },
   "outputs": [],
   "source": [
    "mstry = Ministry(0.3, 0.7, 0.7, 0.0, 0.0, boxsize=1050)"
   ]
  },
  {
   "cell_type": "code",
   "execution_count": null,
   "metadata": {
    "collapsed": false
   },
   "outputs": [],
   "source": [
    "fs = {}\n",
    "fs['truth'] = ['/nfs/slac/g/ki/ki18/des/swmclau2/chinchilla1050/out_9.list']\n",
    "fm = {'mass':OrderedDict([('M200b',['truth'])])}"
   ]
  },
  {
   "cell_type": "code",
   "execution_count": null,
   "metadata": {
    "collapsed": true
   },
   "outputs": [],
   "source": [
    "#Need to provide units for quantities we want to use \n",
    "#since we're not using a specialized halo catalog class \n",
    "#like BCCHaloCatalog\n",
    "#here we are telling the code that masses in this catalog are\n",
    "#in units of m_sun/h (abbreviated msunh for python syntax reasons)\n",
    "unitmap = {'mass':'msunh'}"
   ]
  },
  {
   "cell_type": "code",
   "execution_count": null,
   "metadata": {
    "collapsed": false
   },
   "outputs": [],
   "source": [
    "hc = HaloCatalog(mstry, fs, fieldmap=fm, reader='rockstar', unitmap=unitmap)\n",
    "mstry.halocatalog = hc\n",
    "mstry.metrics = [MassFunction(mstry, lightcone=False)]"
   ]
  },
  {
   "cell_type": "code",
   "execution_count": null,
   "metadata": {
    "collapsed": false
   },
   "outputs": [],
   "source": [
    "mstry.validate()"
   ]
  },
  {
   "cell_type": "code",
   "execution_count": null,
   "metadata": {
    "collapsed": false
   },
   "outputs": [],
   "source": [
    "hmf = mstry.metrics[0]"
   ]
  },
  {
   "cell_type": "code",
   "execution_count": null,
   "metadata": {
    "collapsed": false
   },
   "outputs": [],
   "source": [
    "hmf.visualize()"
   ]
  },
  {
   "cell_type": "code",
   "execution_count": null,
   "metadata": {
    "collapsed": false
   },
   "outputs": [],
   "source": [
    "mstry = Ministry(0.3, 0.7, 0.7, 0.0, 2.0)\n",
    "mstry.validate()"
   ]
  },
  {
   "cell_type": "code",
   "execution_count": null,
   "metadata": {
    "collapsed": false
   },
   "outputs": [],
   "source": [
    "tmf = TinkerMassFunction(mstry, zbins=[0.0],lightcone=False)"
   ]
  },
  {
   "cell_type": "code",
   "execution_count": null,
   "metadata": {
    "collapsed": false
   },
   "outputs": [],
   "source": [
    "%pdb"
   ]
  },
  {
   "cell_type": "code",
   "execution_count": null,
   "metadata": {
    "collapsed": false,
    "scrolled": true
   },
   "outputs": [],
   "source": [
    "tmf.visualize()"
   ]
  },
  {
   "cell_type": "code",
   "execution_count": null,
   "metadata": {
    "collapsed": false
   },
   "outputs": [],
   "source": [
    "hmf.mass_function *= (0.7**(3*2))"
   ]
  },
  {
   "cell_type": "code",
   "execution_count": null,
   "metadata": {
    "collapsed": true
   },
   "outputs": [],
   "source": [
    "tmf.compare([hmf])"
   ]
  },
  {
   "cell_type": "code",
   "execution_count": null,
   "metadata": {
    "collapsed": false,
    "scrolled": true
   },
   "outputs": [],
   "source": [
    "hmf.mass_function"
   ]
  },
  {
   "cell_type": "code",
   "execution_count": null,
   "metadata": {
    "collapsed": false
   },
   "outputs": [],
   "source": []
  },
  {
   "cell_type": "markdown",
   "metadata": {
    "collapsed": true
   },
   "source": [
    "# Richness"
   ]
  },
  {
   "cell_type": "code",
   "execution_count": 2,
   "metadata": {
    "collapsed": false
   },
   "outputs": [],
   "source": [
    "fm = {'halomass':OrderedDict([('M200', ['truth'])]),\n",
    "      'redshift':OrderedDict([('Z', ['truth'])]),\n",
    "      'luminosity':OrderedDict([('AMAG',['truth'])]),\n",
    "      'haloid':OrderedDict([('HALOID',['truth'])]),\n",
    "      'rhalo':OrderedDict([('RHALO', ['truth'])])}"
   ]
  },
  {
   "cell_type": "code",
   "execution_count": null,
   "metadata": {
    "collapsed": false,
    "scrolled": true
   },
   "outputs": [
    {
     "name": "stdout",
     "output_type": "stream",
     "text": [
      "*****Richness*****\n",
      "Peaks: [  6153.97047396+0.j  38877.23367528+0.j] at color [ 0.67425104+0.j  0.34665010+0.j]"
     ]
    },
    {
     "name": "stderr",
     "output_type": "stream",
     "text": [
      "/afs/slac/g/ki/software/anaconda/x86_64-2.7/lib/python2.7/site-packages/numpy/lib/polynomial.py:594: RankWarning: Polyfit may be poorly conditioned\n",
      "  warnings.warn(msg, RankWarning)\n",
      "/afs/slac/g/ki/software/anaconda/x86_64-2.7/lib/python2.7/site-packages/numpy/lib/polynomial.py:594: RankWarning: Polyfit may be poorly conditioned\n",
      "  warnings.warn(msg, RankWarning)\n"
     ]
    },
    {
     "name": "stdout",
     "output_type": "stream",
     "text": [
      "\n",
      "Peaks: [  22329.92944736+0.j  114152.98758877+0.j] at color [ 0.65308494+0.j  0.36260282+0.j]\n",
      "Peaks: [  67218.15594821+0.j  169786.85884352+0.j] at color [ 0.87861226+0.j  0.39591140+0.j]"
     ]
    },
    {
     "name": "stderr",
     "output_type": "stream",
     "text": [
      "/afs/slac/g/ki/software/anaconda/x86_64-2.7/lib/python2.7/site-packages/numpy/lib/polynomial.py:594: RankWarning: Polyfit may be poorly conditioned\n",
      "  warnings.warn(msg, RankWarning)\n",
      "/afs/slac/g/ki/software/anaconda/x86_64-2.7/lib/python2.7/site-packages/numpy/lib/polynomial.py:594: RankWarning: Polyfit may be poorly conditioned\n",
      "  warnings.warn(msg, RankWarning)\n"
     ]
    },
    {
     "name": "stdout",
     "output_type": "stream",
     "text": [
      "\n",
      "Peaks: [ 63175.64299059+0.j  67108.25921420+0.j] at color [ 0.90560825+0.j  0.45722228+0.j]\n",
      "[0, 1, 2, 3]\n"
     ]
    },
    {
     "ename": "AssertionError",
     "evalue": "",
     "output_type": "error",
     "traceback": [
      "\u001b[1;31m---------------------------------------------------------------------------\u001b[0m",
      "\u001b[1;31mAssertionError\u001b[0m                            Traceback (most recent call last)",
      "\u001b[1;32m<ipython-input-5-5fd92c1db742>\u001b[0m in \u001b[0;36m<module>\u001b[1;34m()\u001b[0m\n\u001b[0;32m      8\u001b[0m \u001b[0mbzd\u001b[0m\u001b[1;33m.\u001b[0m\u001b[0mvalidate\u001b[0m\u001b[1;33m(\u001b[0m\u001b[1;33m)\u001b[0m\u001b[1;33m\u001b[0m\u001b[0m\n\u001b[0;32m      9\u001b[0m \u001b[1;32mfor\u001b[0m \u001b[0mm\u001b[0m \u001b[1;32min\u001b[0m \u001b[0mbzd\u001b[0m\u001b[1;33m.\u001b[0m\u001b[0mmetrics\u001b[0m\u001b[1;33m:\u001b[0m\u001b[1;33m\u001b[0m\u001b[0m\n\u001b[1;32m---> 10\u001b[1;33m     \u001b[0mf\u001b[0m\u001b[1;33m,\u001b[0m \u001b[0max\u001b[0m\u001b[1;33m,\u001b[0m \u001b[0ml1\u001b[0m \u001b[1;33m=\u001b[0m \u001b[0mm\u001b[0m\u001b[1;33m.\u001b[0m\u001b[0mvisualize\u001b[0m\u001b[1;33m(\u001b[0m\u001b[1;33m)\u001b[0m\u001b[1;33m\u001b[0m\u001b[0m\n\u001b[0m\u001b[0;32m     11\u001b[0m     \u001b[0mf\u001b[0m\u001b[1;33m.\u001b[0m\u001b[0msuptitle\u001b[0m\u001b[1;33m(\u001b[0m\u001b[1;34m'Buzzard 1.1 Richness'\u001b[0m\u001b[1;33m,\u001b[0m\u001b[0mfontsize\u001b[0m\u001b[1;33m=\u001b[0m\u001b[1;36m14\u001b[0m\u001b[1;33m)\u001b[0m\u001b[1;33m\u001b[0m\u001b[0m\n",
      "\u001b[1;32m/afs/slac.stanford.edu/u/ki/duncanw/des/bigbrother/bigbrother/massmetric.py\u001b[0m in \u001b[0;36mvisualize\u001b[1;34m(self, plotname, usecols, usez, fracdev, ref_y, ref_x, xlim, ylim, fylim, f, ax, xlabel, ylabel, compare, **kwargs)\u001b[0m\n\u001b[0;32m    815\u001b[0m                                     \u001b[0mylabel\u001b[0m\u001b[1;33m=\u001b[0m\u001b[0mylabel\u001b[0m\u001b[1;33m,\u001b[0m\u001b[1;33m\u001b[0m\u001b[0m\n\u001b[0;32m    816\u001b[0m                                     \u001b[0mcompare\u001b[0m\u001b[1;33m=\u001b[0m\u001b[0mcompare\u001b[0m\u001b[1;33m,\u001b[0m\u001b[0mlogx\u001b[0m\u001b[1;33m=\u001b[0m\u001b[0mTrue\u001b[0m\u001b[1;33m,\u001b[0m\u001b[1;33m\u001b[0m\u001b[0m\n\u001b[1;32m--> 817\u001b[1;33m                                     **kwargs)\n\u001b[0m",
      "\u001b[1;32m/afs/slac.stanford.edu/u/ki/duncanw/des/bigbrother/bigbrother/metric.py\u001b[0m in \u001b[0;36mvisualize\u001b[1;34m(self, plotname, usecols, usez, fracdev, ref_y, ref_x, xlim, ylim, fylim, f, ax, xlabel, ylabel, compare, logx, logy, rusecols, **kwargs)\u001b[0m\n\u001b[0;32m    248\u001b[0m                     \u001b[1;32mif\u001b[0m \u001b[0mfracdev\u001b[0m\u001b[1;33m==\u001b[0m\u001b[0mFalse\u001b[0m\u001b[1;33m:\u001b[0m\u001b[1;33m\u001b[0m\u001b[0m\n\u001b[0;32m    249\u001b[0m                         l1 = ax[i][j].errorbar(mxs, self.y[:,b,j],\n\u001b[1;32m--> 250\u001b[1;33m                                           yerr=self.ye[:,b,j], **kwargs)\n\u001b[0m\u001b[0;32m    251\u001b[0m                         \u001b[1;32mif\u001b[0m \u001b[0mlogx\u001b[0m\u001b[1;33m:\u001b[0m\u001b[1;33m\u001b[0m\u001b[0m\n\u001b[0;32m    252\u001b[0m                             \u001b[0max\u001b[0m\u001b[1;33m[\u001b[0m\u001b[0mi\u001b[0m\u001b[1;33m]\u001b[0m\u001b[1;33m[\u001b[0m\u001b[0mj\u001b[0m\u001b[1;33m]\u001b[0m\u001b[1;33m.\u001b[0m\u001b[0mset_xscale\u001b[0m\u001b[1;33m(\u001b[0m\u001b[1;34m'log'\u001b[0m\u001b[1;33m)\u001b[0m\u001b[1;33m\u001b[0m\u001b[0m\n",
      "\u001b[1;32m/afs/slac/g/ki/software/anaconda/x86_64-2.7/lib/python2.7/site-packages/matplotlib/__init__.py\u001b[0m in \u001b[0;36minner\u001b[1;34m(ax, *args, **kwargs)\u001b[0m\n\u001b[0;32m   1809\u001b[0m                     warnings.warn(msg % (label_namer, func.__name__),\n\u001b[0;32m   1810\u001b[0m                                   RuntimeWarning, stacklevel=2)\n\u001b[1;32m-> 1811\u001b[1;33m             \u001b[1;32mreturn\u001b[0m \u001b[0mfunc\u001b[0m\u001b[1;33m(\u001b[0m\u001b[0max\u001b[0m\u001b[1;33m,\u001b[0m \u001b[1;33m*\u001b[0m\u001b[0margs\u001b[0m\u001b[1;33m,\u001b[0m \u001b[1;33m**\u001b[0m\u001b[0mkwargs\u001b[0m\u001b[1;33m)\u001b[0m\u001b[1;33m\u001b[0m\u001b[0m\n\u001b[0m\u001b[0;32m   1812\u001b[0m         \u001b[0mpre_doc\u001b[0m \u001b[1;33m=\u001b[0m \u001b[0minner\u001b[0m\u001b[1;33m.\u001b[0m\u001b[0m__doc__\u001b[0m\u001b[1;33m\u001b[0m\u001b[0m\n\u001b[0;32m   1813\u001b[0m         \u001b[1;32mif\u001b[0m \u001b[0mpre_doc\u001b[0m \u001b[1;32mis\u001b[0m \u001b[0mNone\u001b[0m\u001b[1;33m:\u001b[0m\u001b[1;33m\u001b[0m\u001b[0m\n",
      "\u001b[1;32m/afs/slac/g/ki/software/anaconda/x86_64-2.7/lib/python2.7/site-packages/matplotlib/axes/_axes.py\u001b[0m in \u001b[0;36merrorbar\u001b[1;34m(self, x, y, yerr, xerr, fmt, ecolor, elinewidth, capsize, barsabove, lolims, uplims, xlolims, xuplims, errorevery, capthick, **kwargs)\u001b[0m\n\u001b[0;32m   2969\u001b[0m             \u001b[0mnoylims\u001b[0m \u001b[1;33m=\u001b[0m \u001b[1;33m~\u001b[0m\u001b[1;33m(\u001b[0m\u001b[0mlolims\u001b[0m \u001b[1;33m|\u001b[0m \u001b[0muplims\u001b[0m\u001b[1;33m)\u001b[0m\u001b[1;33m\u001b[0m\u001b[0m\n\u001b[0;32m   2970\u001b[0m             \u001b[1;32mif\u001b[0m \u001b[0mnoylims\u001b[0m\u001b[1;33m.\u001b[0m\u001b[0many\u001b[0m\u001b[1;33m(\u001b[0m\u001b[1;33m)\u001b[0m\u001b[1;33m:\u001b[0m\u001b[1;33m\u001b[0m\u001b[0m\n\u001b[1;32m-> 2971\u001b[1;33m                 \u001b[0mxo\u001b[0m\u001b[1;33m,\u001b[0m \u001b[0m_\u001b[0m \u001b[1;33m=\u001b[0m \u001b[0mxywhere\u001b[0m\u001b[1;33m(\u001b[0m\u001b[0mx\u001b[0m\u001b[1;33m,\u001b[0m \u001b[0mlower\u001b[0m\u001b[1;33m,\u001b[0m \u001b[0mnoylims\u001b[0m \u001b[1;33m&\u001b[0m \u001b[0meverymask\u001b[0m\u001b[1;33m)\u001b[0m\u001b[1;33m\u001b[0m\u001b[0m\n\u001b[0m\u001b[0;32m   2972\u001b[0m                 \u001b[0mlo\u001b[0m\u001b[1;33m,\u001b[0m \u001b[0muo\u001b[0m \u001b[1;33m=\u001b[0m \u001b[0mxywhere\u001b[0m\u001b[1;33m(\u001b[0m\u001b[0mlower\u001b[0m\u001b[1;33m,\u001b[0m \u001b[0mupper\u001b[0m\u001b[1;33m,\u001b[0m \u001b[0mnoylims\u001b[0m \u001b[1;33m&\u001b[0m \u001b[0meverymask\u001b[0m\u001b[1;33m)\u001b[0m\u001b[1;33m\u001b[0m\u001b[0m\n\u001b[0;32m   2973\u001b[0m                 \u001b[0mbarcols\u001b[0m\u001b[1;33m.\u001b[0m\u001b[0mappend\u001b[0m\u001b[1;33m(\u001b[0m\u001b[0mself\u001b[0m\u001b[1;33m.\u001b[0m\u001b[0mvlines\u001b[0m\u001b[1;33m(\u001b[0m\u001b[0mxo\u001b[0m\u001b[1;33m,\u001b[0m \u001b[0mlo\u001b[0m\u001b[1;33m,\u001b[0m \u001b[0muo\u001b[0m\u001b[1;33m,\u001b[0m \u001b[1;33m**\u001b[0m\u001b[0mlines_kw\u001b[0m\u001b[1;33m)\u001b[0m\u001b[1;33m)\u001b[0m\u001b[1;33m\u001b[0m\u001b[0m\n",
      "\u001b[1;32m/afs/slac/g/ki/software/anaconda/x86_64-2.7/lib/python2.7/site-packages/matplotlib/axes/_axes.py\u001b[0m in \u001b[0;36mxywhere\u001b[1;34m(xs, ys, mask)\u001b[0m\n\u001b[0;32m   2854\u001b[0m             \u001b[0mys\u001b[0m \u001b[0mare\u001b[0m \u001b[1;32mnot\u001b[0m \u001b[0marrays\u001b[0m\u001b[1;33m\u001b[0m\u001b[0m\n\u001b[0;32m   2855\u001b[0m             \"\"\"\n\u001b[1;32m-> 2856\u001b[1;33m             \u001b[1;32massert\u001b[0m \u001b[0mlen\u001b[0m\u001b[1;33m(\u001b[0m\u001b[0mxs\u001b[0m\u001b[1;33m)\u001b[0m \u001b[1;33m==\u001b[0m \u001b[0mlen\u001b[0m\u001b[1;33m(\u001b[0m\u001b[0mys\u001b[0m\u001b[1;33m)\u001b[0m\u001b[1;33m\u001b[0m\u001b[0m\n\u001b[0m\u001b[0;32m   2857\u001b[0m             \u001b[1;32massert\u001b[0m \u001b[0mlen\u001b[0m\u001b[1;33m(\u001b[0m\u001b[0mxs\u001b[0m\u001b[1;33m)\u001b[0m \u001b[1;33m==\u001b[0m \u001b[0mlen\u001b[0m\u001b[1;33m(\u001b[0m\u001b[0mmask\u001b[0m\u001b[1;33m)\u001b[0m\u001b[1;33m\u001b[0m\u001b[0m\n\u001b[0;32m   2858\u001b[0m             \u001b[0mxs\u001b[0m \u001b[1;33m=\u001b[0m \u001b[1;33m[\u001b[0m\u001b[0mthisx\u001b[0m \u001b[1;32mfor\u001b[0m \u001b[0mthisx\u001b[0m\u001b[1;33m,\u001b[0m \u001b[0mb\u001b[0m \u001b[1;32min\u001b[0m \u001b[0mzip\u001b[0m\u001b[1;33m(\u001b[0m\u001b[0mxs\u001b[0m\u001b[1;33m,\u001b[0m \u001b[0mmask\u001b[0m\u001b[1;33m)\u001b[0m \u001b[1;32mif\u001b[0m \u001b[0mb\u001b[0m\u001b[1;33m]\u001b[0m\u001b[1;33m\u001b[0m\u001b[0m\n",
      "\u001b[1;31mAssertionError\u001b[0m: "
     ]
    },
    {
     "name": "stdout",
     "output_type": "stream",
     "text": [
      "> \u001b[1;32m/afs/slac/g/ki/software/anaconda/x86_64-2.7/lib/python2.7/site-packages/matplotlib/axes/_axes.py\u001b[0m(2856)\u001b[0;36mxywhere\u001b[1;34m()\u001b[0m\n",
      "\u001b[1;32m   2855 \u001b[1;33m            \"\"\"\n",
      "\u001b[0m\u001b[1;32m-> 2856 \u001b[1;33m            \u001b[1;32massert\u001b[0m \u001b[0mlen\u001b[0m\u001b[1;33m(\u001b[0m\u001b[0mxs\u001b[0m\u001b[1;33m)\u001b[0m \u001b[1;33m==\u001b[0m \u001b[0mlen\u001b[0m\u001b[1;33m(\u001b[0m\u001b[0mys\u001b[0m\u001b[1;33m)\u001b[0m\u001b[1;33m\u001b[0m\u001b[0m\n",
      "\u001b[0m\u001b[1;32m   2857 \u001b[1;33m            \u001b[1;32massert\u001b[0m \u001b[0mlen\u001b[0m\u001b[1;33m(\u001b[0m\u001b[0mxs\u001b[0m\u001b[1;33m)\u001b[0m \u001b[1;33m==\u001b[0m \u001b[0mlen\u001b[0m\u001b[1;33m(\u001b[0m\u001b[0mmask\u001b[0m\u001b[1;33m)\u001b[0m\u001b[1;33m\u001b[0m\u001b[0m\n",
      "\u001b[0m\n",
      "ipdb> up\n",
      "> \u001b[1;32m/afs/slac/g/ki/software/anaconda/x86_64-2.7/lib/python2.7/site-packages/matplotlib/axes/_axes.py\u001b[0m(2971)\u001b[0;36merrorbar\u001b[1;34m()\u001b[0m\n",
      "\u001b[1;32m   2970 \u001b[1;33m            \u001b[1;32mif\u001b[0m \u001b[0mnoylims\u001b[0m\u001b[1;33m.\u001b[0m\u001b[0many\u001b[0m\u001b[1;33m(\u001b[0m\u001b[1;33m)\u001b[0m\u001b[1;33m:\u001b[0m\u001b[1;33m\u001b[0m\u001b[0m\n",
      "\u001b[0m\u001b[1;32m-> 2971 \u001b[1;33m                \u001b[0mxo\u001b[0m\u001b[1;33m,\u001b[0m \u001b[0m_\u001b[0m \u001b[1;33m=\u001b[0m \u001b[0mxywhere\u001b[0m\u001b[1;33m(\u001b[0m\u001b[0mx\u001b[0m\u001b[1;33m,\u001b[0m \u001b[0mlower\u001b[0m\u001b[1;33m,\u001b[0m \u001b[0mnoylims\u001b[0m \u001b[1;33m&\u001b[0m \u001b[0meverymask\u001b[0m\u001b[1;33m)\u001b[0m\u001b[1;33m\u001b[0m\u001b[0m\n",
      "\u001b[0m\u001b[1;32m   2972 \u001b[1;33m                \u001b[0mlo\u001b[0m\u001b[1;33m,\u001b[0m \u001b[0muo\u001b[0m \u001b[1;33m=\u001b[0m \u001b[0mxywhere\u001b[0m\u001b[1;33m(\u001b[0m\u001b[0mlower\u001b[0m\u001b[1;33m,\u001b[0m \u001b[0mupper\u001b[0m\u001b[1;33m,\u001b[0m \u001b[0mnoylims\u001b[0m \u001b[1;33m&\u001b[0m \u001b[0meverymask\u001b[0m\u001b[1;33m)\u001b[0m\u001b[1;33m\u001b[0m\u001b[0m\n",
      "\u001b[0m\n",
      "ipdb> up\n",
      "> \u001b[1;32m/afs/slac/g/ki/software/anaconda/x86_64-2.7/lib/python2.7/site-packages/matplotlib/__init__.py\u001b[0m(1811)\u001b[0;36minner\u001b[1;34m()\u001b[0m\n",
      "\u001b[1;32m   1810 \u001b[1;33m                                  RuntimeWarning, stacklevel=2)\n",
      "\u001b[0m\u001b[1;32m-> 1811 \u001b[1;33m            \u001b[1;32mreturn\u001b[0m \u001b[0mfunc\u001b[0m\u001b[1;33m(\u001b[0m\u001b[0max\u001b[0m\u001b[1;33m,\u001b[0m \u001b[1;33m*\u001b[0m\u001b[0margs\u001b[0m\u001b[1;33m,\u001b[0m \u001b[1;33m**\u001b[0m\u001b[0mkwargs\u001b[0m\u001b[1;33m)\u001b[0m\u001b[1;33m\u001b[0m\u001b[0m\n",
      "\u001b[0m\u001b[1;32m   1812 \u001b[1;33m        \u001b[0mpre_doc\u001b[0m \u001b[1;33m=\u001b[0m \u001b[0minner\u001b[0m\u001b[1;33m.\u001b[0m\u001b[0m__doc__\u001b[0m\u001b[1;33m\u001b[0m\u001b[0m\n",
      "\u001b[0m\n",
      "ipdb> up\n",
      "> \u001b[1;32m/afs/slac.stanford.edu/u/ki/duncanw/des/bigbrother/bigbrother/metric.py\u001b[0m(250)\u001b[0;36mvisualize\u001b[1;34m()\u001b[0m\n",
      "\u001b[1;32m    249 \u001b[1;33m                        l1 = ax[i][j].errorbar(mxs, self.y[:,b,j],\n",
      "\u001b[0m\u001b[1;32m--> 250 \u001b[1;33m                                          yerr=self.ye[:,b,j], **kwargs)\n",
      "\u001b[0m\u001b[1;32m    251 \u001b[1;33m                        \u001b[1;32mif\u001b[0m \u001b[0mlogx\u001b[0m\u001b[1;33m:\u001b[0m\u001b[1;33m\u001b[0m\u001b[0m\n",
      "\u001b[0m\n",
      "ipdb> print self.ye\n",
      "[[[  0.87793062   0.6767022    0.96265793   1.66372411]]\n",
      "\n",
      " [[  0.70841084   0.71934316   0.99618749   1.5474853 ]]\n",
      "\n",
      " [[  1.01606372   1.06534342   0.97533726   1.68916516]]\n",
      "\n",
      " [[  1.09619481   1.18113584   1.14638451   1.48089664]]\n",
      "\n",
      " [[  1.36985485   1.42946472   1.46402493   1.71959673]]\n",
      "\n",
      " [[  2.1037933    1.7708863    1.95626789   1.507726  ]]\n",
      "\n",
      " [[  2.56047338   2.5726023    2.73601929   1.76858552]]\n",
      "\n",
      " [[  4.17367845   3.12005998   3.42223389   2.39909767]]\n",
      "\n",
      " [[  3.61683891   3.51050361   3.76444823   2.99296947]]\n",
      "\n",
      " [[  4.82603952   4.15684185   4.01080234   3.68241751]]\n",
      "\n",
      " [[  4.12210329   4.62727924   3.99868403   3.99091678]]\n",
      "\n",
      " [[  4.52078533   5.18078949   5.15606694   4.16851043]]\n",
      "\n",
      " [[  9.1876669    4.56492807   5.32931183   5.71763824]]\n",
      "\n",
      " [[  9.17823512   6.32442883   6.36874196   5.97473435]]\n",
      "\n",
      " [[  9.8264948    7.18531898   8.11639684   6.27605679]]\n",
      "\n",
      " [[  2.           9.0934042    9.15297425  10.14828332]]\n",
      "\n",
      " [[         nan   0.5         10.9658561           nan]]\n",
      "\n",
      " [[         nan   2.91547595  11.5                 nan]]\n",
      "\n",
      " [[         nan          nan          nan          nan]]]\n",
      "ipdb> print np.shape(self.ye)\n",
      "(19, 1, 4)\n",
      "ipdb> print np.shape(mxs)\n",
      "(39,)\n"
     ]
    }
   ],
   "source": [
    "bzd = Ministry(0.3, 0.7, 0.7, 0.0, 2.0, 3*53.71)\n",
    "bzdmetrics = [Richness(bzd, splitinfo=True,lightcone=True,zbins=np.logspace(-1,np.log10(2),5),colorbins=60)]#,Richness(bzd,colorbins=50)]\n",
    "files = glob('/u/ki/jderose/desims/addgals/catalogs/Buzzard/Catalog_v1.1/truth/Buzzard_v1.1_truth.*.fit')\n",
    "bfs = {}\n",
    "bfs['truth'] = files[:1]\n",
    "bzd.setGalaxyCatalog('BCC', bfs, fieldmap=fm, unitmap={'halomass':'msunh'})\n",
    "bzd.galaxycatalog.metrics = bzdmetrics\n",
    "bzd.validate()\n",
    "for m in bzd.metrics:\n",
    "    f, ax, l1 = m.visualize()\n",
    "    f.suptitle('Buzzard 1.1 Richness',fontsize=14)"
   ]
  },
  {
   "cell_type": "code",
   "execution_count": 4,
   "metadata": {
    "collapsed": false
   },
   "outputs": [
    {
     "name": "stdout",
     "output_type": "stream",
     "text": [
      "Automatic pdb calling has been turned ON\n"
     ]
    }
   ],
   "source": [
    "%pdb"
   ]
  },
  {
   "cell_type": "code",
   "execution_count": null,
   "metadata": {
    "collapsed": false,
    "scrolled": true
   },
   "outputs": [],
   "source": [
    "bzd10 = Ministry(0.3, 0.7, 0.7, 0.0, 2.0, 3*53.71)\n",
    "bzdmetrics10 = [Richness(bzd10, splitinfo=True,lightcone=True,zbins=np.logspace(-1,np.log10(2),5),colorbins=60)]\n",
    "files10 = glob('/nfs/slac/g/ki/ki19/des/mbusha/catalogs/Buzzard/Catalog_v1.0/truth/Chinchilla-1_v1.0_truth.*.fit')\n",
    "bfs10 = {}\n",
    "bfs10['truth'] = files10[:1]\n",
    "bzd10.setGalaxyCatalog('BCC', bfs10, fieldmap=fm, unitmap={'halomass':'msunh'})\n",
    "bzd10.galaxycatalog.metrics = bzdmetrics10\n",
    "bzd10.validate()\n",
    "for m in bzd10.metrics:\n",
    "    m.visualize()"
   ]
  },
  {
   "cell_type": "code",
   "execution_count": null,
   "metadata": {
    "collapsed": false,
    "scrolled": true
   },
   "outputs": [],
   "source": [
    "filesch = glob('/nfs/slac/g/ki/ki23/des/jderose/BCC/Chinchilla/Herd/Chinchilla-1/addgalspostprocess/truth_rotated_Y1a/Chinchilla-1Y1a_v1.2_truth.fits.*.fits')\n",
    "chfs = {}\n",
    "chfs['truth'] = filesch[:1]\n",
    "ch = Ministry(0.3, 0.7, 0.7, 0.0, 2.0, 3*53.71)\n",
    "chmetrics = [Richness(ch, splitinfo=True,lightcone=True,zbins=np.logspace(-1,np.log10(2),5),colorbins=60)]\n",
    "ch.setGalaxyCatalog('BCC', chfs, fieldmap=fm, unitmap={'halomass':'msunh'})\n",
    "ch.galaxycatalog.metrics = chmetrics\n",
    "ch.validate()\n",
    "ch.metrics[0].visualize()"
   ]
  },
  {
   "cell_type": "code",
   "execution_count": null,
   "metadata": {
    "collapsed": false
   },
   "outputs": [],
   "source": [
    "files10"
   ]
  },
  {
   "cell_type": "code",
   "execution_count": null,
   "metadata": {
    "collapsed": false
   },
   "outputs": [],
   "source": []
  },
  {
   "cell_type": "code",
   "execution_count": null,
   "metadata": {
    "collapsed": false
   },
   "outputs": [],
   "source": [
    "fig, ax = bzd.metrics[0].compare([bzd.metrics[0],bzd10.metrics[0], ch.metrics[0]], xlim=[10**10.7, 10**15.3])\n",
    "fig.suptitle(r'Buzzard Richness by Halo Mass',fontsize=18)\n",
    "zbins=np.logspace(-1,np.log10(2),5)\n",
    "plt.rc('text', usetex=True)\n",
    "plt.rc('font', family='serif')\n",
    "for i in range(len(ax[0])):\n",
    "    ax[0,i].set_title(r\"Redshift $[10^{%05.3f},10^{%05.3f}]$\" % (np.log10(zbins[i]), np.log10(zbins[i+1])))\n",
    "ax[1,0].set_ylabel('1.0 Residues')\n",
    "fig.set_size_inches(20,8)"
   ]
  },
  {
   "cell_type": "code",
   "execution_count": null,
   "metadata": {
    "collapsed": false
   },
   "outputs": [],
   "source": [
    "%pdb"
   ]
  },
  {
   "cell_type": "code",
   "execution_count": null,
   "metadata": {
    "collapsed": false
   },
   "outputs": [],
   "source": [
    "ax[0]"
   ]
  },
  {
   "cell_type": "code",
   "execution_count": null,
   "metadata": {
    "collapsed": false
   },
   "outputs": [],
   "source": [
    "for i in range(3):\n",
    "    print(i)\n",
    "print(i)"
   ]
  },
  {
   "cell_type": "code",
   "execution_count": null,
   "metadata": {
    "collapsed": false
   },
   "outputs": [],
   "source": [
    "np.log10(10)"
   ]
  },
  {
   "cell_type": "code",
   "execution_count": null,
   "metadata": {
    "collapsed": false
   },
   "outputs": [],
   "source": [
    "dum = np.array([4,2,15,3,1,14,18,0])\n",
    "dum[np.argpartition(dum, -1)][-2:]"
   ]
  },
  {
   "cell_type": "code",
   "execution_count": null,
   "metadata": {
    "collapsed": false
   },
   "outputs": [],
   "source": [
    "dum1 = np.array([4,2,15,3,1,14,18,0])\n",
    "dum2 = np.array([1,2,15,3,1,14,18,0])\n",
    "np.where(dum1[1] == dum2)"
   ]
  },
  {
   "cell_type": "code",
   "execution_count": null,
   "metadata": {
    "collapsed": false
   },
   "outputs": [],
   "source": [
    "np.find(dum1, 15)"
   ]
  },
  {
   "cell_type": "code",
   "execution_count": null,
   "metadata": {
    "collapsed": true
   },
   "outputs": [],
   "source": []
  },
  {
   "cell_type": "code",
   "execution_count": null,
   "metadata": {
    "collapsed": false
   },
   "outputs": [],
   "source": [
    "tester =5\n",
    "type(tester)==int"
   ]
  },
  {
   "cell_type": "code",
   "execution_count": null,
   "metadata": {
    "collapsed": false
   },
   "outputs": [],
   "source": [
    "vec = np.array([1,0,0,1,235])\n",
    "vec[True]"
   ]
  },
  {
   "cell_type": "code",
   "execution_count": null,
   "metadata": {
    "collapsed": false
   },
   "outputs": [],
   "source": [
    "np.logspace(10,16,2)"
   ]
  },
  {
   "cell_type": "code",
   "execution_count": null,
   "metadata": {
    "collapsed": false
   },
   "outputs": [],
   "source": [
    "thing=np.zeros((2,2,2))\n",
    "np.shape(thing)"
   ]
  },
  {
   "cell_type": "code",
   "execution_count": null,
   "metadata": {
    "collapsed": false
   },
   "outputs": [],
   "source": [
    "f = plt.plot([1,2],[1,2])\n"
   ]
  },
  {
   "cell_type": "code",
   "execution_count": null,
   "metadata": {
    "collapsed": false
   },
   "outputs": [],
   "source": [
    "plt.title(f,'het')"
   ]
  },
  {
   "cell_type": "code",
   "execution_count": null,
   "metadata": {
    "collapsed": true
   },
   "outputs": [],
   "source": []
  }
 ],
 "metadata": {
  "kernelspec": {
   "display_name": "Python 2",
   "language": "python",
   "name": "python2"
  },
  "language_info": {
   "codemirror_mode": {
    "name": "ipython",
    "version": 2
   },
   "file_extension": ".py",
   "mimetype": "text/x-python",
   "name": "python",
   "nbconvert_exporter": "python",
   "pygments_lexer": "ipython2",
   "version": "2.7.11"
  }
 },
 "nbformat": 4,
 "nbformat_minor": 0
}
